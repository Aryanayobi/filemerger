{
  "nbformat": 4,
  "nbformat_minor": 0,
  "metadata": {
    "colab": {
      "provenance": [],
      "authorship_tag": "ABX9TyPhiiOq2+xpVzRbLuOdK1rW",
      "include_colab_link": true
    },
    "kernelspec": {
      "name": "python3",
      "display_name": "Python 3"
    },
    "language_info": {
      "name": "python"
    }
  },
  "cells": [
    {
      "cell_type": "markdown",
      "metadata": {
        "id": "view-in-github",
        "colab_type": "text"
      },
      "source": [
        "<a href=\"https://colab.research.google.com/github/Aryanayobi/filemerger/blob/main/chanllenge.ipynb\" target=\"_parent\"><img src=\"https://colab.research.google.com/assets/colab-badge.svg\" alt=\"Open In Colab\"/></a>"
      ]
    },
    {
      "cell_type": "code",
      "execution_count": 1,
      "metadata": {
        "colab": {
          "base_uri": "https://localhost:8080/"
        },
        "id": "Ixtzw3E1aou4",
        "outputId": "8f4a871f-7648-4d5f-c085-93d0a16ed198"
      },
      "outputs": [
        {
          "output_type": "stream",
          "name": "stdout",
          "text": [
            "the number is already odd\n",
            "['3', '5']\n"
          ]
        }
      ],
      "source": [
        "\n",
        "num3 = \"35428\"\n",
        "\n",
        "t_list = []\n",
        "\n",
        "#if the first digit from right is odd, then the program is stopped\n",
        "if int(num3[-1] )!= 0:\n",
        "  print(\"the number is already odd\")\n",
        "  exit()\n",
        "\n",
        "\n",
        "#if the condition in above is false, then the string is scanned for odd numbers and they are added to the list.\n",
        "for i in num3:\n",
        "  if  int(i)%2 != 0:\n",
        "    t_list.append(i)\n",
        "\n",
        "\n",
        "if len(t_list) == 0:\n",
        "  print(\"there is no even number is the string\")\n",
        "\n",
        "\n",
        "if all(int(digit) % 2 == 0 for digit in num3):\n",
        "    print(\"there is not odd number in :\", num3)\n",
        "\n",
        "\n",
        "print(t_list)"
      ]
    },
    {
      "cell_type": "code",
      "source": [
        "num3 = \"35429\"\n",
        "\n",
        "for i in range(0,len(num3)):\n",
        "  if all(int(i) % 2 == 0 for i in num3):\n",
        "    print(\"there is no odd number in \", num3)\n",
        "\n",
        "\n"
      ],
      "metadata": {
        "id": "l3U3jey7ee4X"
      },
      "execution_count": 29,
      "outputs": []
    },
    {
      "cell_type": "code",
      "source": [
        "num3 = \"35425\"\n",
        "t_list = []\n",
        "\n",
        "# If the last digit is odd, stop the program\n",
        "if int(num3[-1]) % 2 != 0:\n",
        "    print(\"The number is already odd\")\n",
        "    exit()\n",
        "\n",
        "# Otherwise, collect odd digits\n",
        "for i in num3:\n",
        "    if int(i) % 2 != 0:\n",
        "        t_list.append(i)\n",
        "\n",
        "if len(t_list) == 0:\n",
        "    print(\"There are no odd numbers in the string\")\n",
        "else:\n",
        "    print(\"Odd digits found:\", t_list)\n",
        "\n",
        "\n"
      ],
      "metadata": {
        "colab": {
          "base_uri": "https://localhost:8080/"
        },
        "id": "CYmz8fC1LC6S",
        "outputId": "0d8ffe73-9776-48af-c53e-4e480ceacc2a"
      },
      "execution_count": 2,
      "outputs": [
        {
          "output_type": "stream",
          "name": "stdout",
          "text": [
            "The number is already odd\n",
            "Odd digits found: ['3', '5', '5']\n"
          ]
        }
      ]
    },
    {
      "cell_type": "code",
      "source": [
        "num3 = \"31564376538\"\n",
        "t_list = []\n",
        "\n",
        "# If the last digit is odd, notify\n",
        "if int(num3[-1]) % 2 != 0:\n",
        "    print(\"The number is already odd\")\n",
        "else:\n",
        "    # Otherwise, collect odd digits\n",
        "    for i in num3:\n",
        "        if int(i) % 2 != 0:\n",
        "            t_list.append(i)\n",
        "\n",
        "    if len(t_list) == 0:\n",
        "        print(\"There are no odd numbers in the string\")\n",
        "    else:\n",
        "        print(\"Odd digits found:\", t_list)\n"
      ],
      "metadata": {
        "colab": {
          "base_uri": "https://localhost:8080/"
        },
        "id": "XnkqSpAgq5Ej",
        "outputId": "6cb16332-3a9e-4544-d901-2c3560905bf3"
      },
      "execution_count": 3,
      "outputs": [
        {
          "output_type": "stream",
          "name": "stdout",
          "text": [
            "Odd digits found: ['3', '1', '5', '3', '7', '5', '3']\n"
          ]
        }
      ]
    }
  ]
}